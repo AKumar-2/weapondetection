{
 "cells": [
  {
   "cell_type": "markdown",
   "metadata": {},
   "source": [
    "## CNN "
   ]
  },
  {
   "cell_type": "code",
   "execution_count": 1,
   "metadata": {},
   "outputs": [],
   "source": [
    "from PyFunctions import Functions as func\n",
    "from PyFunctions import var\n",
    "from PyFunctions import ModelFunc as modelfunc\n",
    "import os\n",
    "from tqdm import tqdm\n",
    "import numpy as np\n",
    "import cv2"
   ]
  },
  {
   "cell_type": "markdown",
   "metadata": {},
   "source": [
    "### Images\n",
    "\n",
    "- Within the folder tests, add whatever image you would like that contains a gun and run the cell below"
   ]
  },
  {
   "cell_type": "code",
   "execution_count": 3,
   "metadata": {},
   "outputs": [
    {
     "output_type": "stream",
     "name": "stdout",
     "text": [
      "Tests/armas (840).jpg\t\tPrediction: Handgun\t55% Confident\n",
      "Creating Bounding Boxes for Tests/armas (840).jpg\n",
      "~~~~~~~~~~~~~~~~~~~~~~~~~~~~~~~~~~~~~~~~~~~~~~~~~~~~~~~~~~~~~~~~~~~~~~~~~~\n",
      "Tests/armas (841).jpg\t\tPrediction: Handgun\t98% Confident\n",
      "Creating Bounding Boxes for Tests/armas (841).jpg\n",
      "~~~~~~~~~~~~~~~~~~~~~~~~~~~~~~~~~~~~~~~~~~~~~~~~~~~~~~~~~~~~~~~~~~~~~~~~~~\n",
      "Tests/armas (851).jpg\t\tPrediction: Rifle\t98% Confident\n",
      "Creating Bounding Boxes for Tests/armas (851).jpg\n",
      "~~~~~~~~~~~~~~~~~~~~~~~~~~~~~~~~~~~~~~~~~~~~~~~~~~~~~~~~~~~~~~~~~~~~~~~~~~\n",
      "Tests/armas (853).jpg\t\tPrediction: Handgun\t57% Confident\n",
      "Creating Bounding Boxes for Tests/armas (853).jpg\n",
      "~~~~~~~~~~~~~~~~~~~~~~~~~~~~~~~~~~~~~~~~~~~~~~~~~~~~~~~~~~~~~~~~~~~~~~~~~~\n"
     ]
    }
   ],
   "source": [
    "#NORMAL MODEL\n",
    "edge = False\n",
    "dim = (var.norm_dimension[0], var.norm_dimension[1], 3)\n",
    "    \n",
    "normal_model = modelfunc.get_conv_model(dim)\n",
    "normal_model.load_weights('ModelWeights/Normal/V2_NoEdge_NoAugmentation.h5') #path to the model weights\n",
    "\n",
    "test_folder = 'Tests'\n",
    "predictions = []\n",
    "for idx, i in enumerate([i for i in os.listdir(test_folder) if i != 'ipynb_checkpoints']):\n",
    "    img_path = f'{test_folder}/{i}'\n",
    "    pred = func.get_img_prediction_bounding_box(img_path, normal_model, dim = var.norm_dimension, edge = edge)\n",
    "    predictions.append(pred)\n",
    "    "
   ]
  },
  {
   "cell_type": "markdown",
   "metadata": {},
   "source": [
    "### Video \n",
    "- within the folder Tests, add whatever video (.mp4) that contains a gun and run the cell below\n",
    "- **Note**: Stick t video shorter than a minute or this process will take a very long time depending on your computer"
   ]
  },
  {
   "cell_type": "code",
   "execution_count": 4,
   "metadata": {},
   "outputs": [
    {
     "output_type": "stream",
     "name": "stderr",
     "text": [
      "Splitting Video Into 0 Frames: 0it [00:00, ?it/s]\n",
      "Getting Base Prediction and Extracting Sliding Window... Sit Back, This Will Take A While: 0it [00:00, ?it/s]Creating NormalTest.mp4\n",
      "\n"
     ]
    }
   ],
   "source": [
    "#Normal Model\n",
    "edge= False \n",
    "\n",
    "model_dim = var.norm_dimension #change this depending on model used\n",
    "dim = (model_dim[0],model_dim[1], 3)\n",
    "    \n",
    "model = modelfunc.get_conv_model(dim)\n",
    "model.load_weights('ModelWeights/Normal/V2_NoEdge_NoAugmentation.h5')\n",
    "\n",
    "images = func.get_vid_frames('../video/videoplayback.mp4', model, model_dim, edge = edge, vid_name = 'NormalTest')"
   ]
  },
  {
   "cell_type": "code",
   "execution_count": null,
   "metadata": {},
   "outputs": [],
   "source": [
    "%%javascript\n",
    "IPython.notebook.save_notebook()"
   ]
  },
  {
   "cell_type": "code",
   "execution_count": null,
   "metadata": {},
   "outputs": [],
   "source": [
    "import os\n",
    "os.system(r'%windir%\\system32\\rundll32.exe powrprof.dll,SetSuspendState Hibernate')"
   ]
  }
 ],
 "metadata": {
  "kernelspec": {
   "name": "python394jvsc74a57bd0ebe999ece8d6a63cea72cfb47be94cdd19985341ed70987e34a02f8c719dccac",
   "display_name": "Python 3.9.4 64-bit ('NN_Weapon_Detection': conda)"
  },
  "language_info": {
   "codemirror_mode": {
    "name": "ipython",
    "version": 3
   },
   "file_extension": ".py",
   "mimetype": "text/x-python",
   "name": "python",
   "nbconvert_exporter": "python",
   "pygments_lexer": "ipython3",
   "version": "3.9.4"
  }
 },
 "nbformat": 4,
 "nbformat_minor": 4
}